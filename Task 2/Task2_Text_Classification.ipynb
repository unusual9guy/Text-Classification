{
  "nbformat": 4,
  "nbformat_minor": 0,
  "metadata": {
    "colab": {
      "provenance": [],
      "gpuType": "T4"
    },
    "kernelspec": {
      "name": "python3",
      "display_name": "Python 3"
    },
    "language_info": {
      "name": "python"
    },
    "accelerator": "GPU"
  },
  "cells": [
    {
      "cell_type": "markdown",
      "source": [
        "# Task 2\n"
      ],
      "metadata": {
        "id": "Zk69LiKvYKE4"
      }
    },
    {
      "cell_type": "markdown",
      "source": [
        "Importing all the libraries"
      ],
      "metadata": {
        "id": "RaSBD2sVYNzu"
      }
    },
    {
      "cell_type": "code",
      "source": [
        "import pandas as pd\n",
        "import numpy as np\n",
        "import nltk\n",
        "nltk.download('punkt')\n",
        "nltk.download('stopwords')\n",
        "nltk.download('wordnet')\n",
        "from nltk.corpus import stopwords\n",
        "from nltk.tokenize import word_tokenize\n",
        "from nltk.stem import PorterStemmer\n",
        "from nltk.stem import WordNetLemmatizer\n",
        "import string\n",
        "from string import punctuation\n",
        "from sklearn.multiclass import OneVsRestClassifier\n",
        "from sklearn.pipeline import make_pipeline\n",
        "from sklearn.metrics import accuracy_score, precision_score, recall_score, f1_score\n",
        "from sklearn.feature_extraction.text import TfidfVectorizer\n",
        "from sklearn.metrics.pairwise import cosine_similarity\n",
        "from sklearn.preprocessing import MultiLabelBinarizer\n",
        "from sklearn.naive_bayes import MultinomialNB\n",
        "from gensim.models import Word2Vec, KeyedVectors\n",
        "from tensorflow.keras.models import Sequential\n",
        "from tensorflow.keras.layers import Embedding, LSTM, Dense, SpatialDropout1D\n",
        "from tensorflow.keras.preprocessing.text import Tokenizer\n",
        "from tensorflow.keras.preprocessing.sequence import pad_sequences\n",
        "from transformers import BertTokenizer, BertModel\n",
        "import torch\n",
        "from nltk.corpus import stopwords\n",
        "from nltk.tokenize import word_tokenize"
      ],
      "metadata": {
        "colab": {
          "base_uri": "https://localhost:8080/"
        },
        "id": "j_BACmYjYRAP",
        "outputId": "3e9dd836-9e13-4566-c9d7-207b78f252a4"
      },
      "execution_count": null,
      "outputs": [
        {
          "output_type": "stream",
          "name": "stderr",
          "text": [
            "[nltk_data] Downloading package punkt to /root/nltk_data...\n",
            "[nltk_data]   Unzipping tokenizers/punkt.zip.\n",
            "[nltk_data] Downloading package stopwords to /root/nltk_data...\n",
            "[nltk_data]   Unzipping corpora/stopwords.zip.\n",
            "[nltk_data] Downloading package wordnet to /root/nltk_data...\n"
          ]
        }
      ]
    },
    {
      "cell_type": "markdown",
      "source": [
        "Loading the training dataset"
      ],
      "metadata": {
        "id": "CzkiPhfYYVpq"
      }
    },
    {
      "cell_type": "code",
      "source": [
        "train_data = pd.read_csv('/content/Task-2-test-dataset3.csv')"
      ],
      "metadata": {
        "id": "GMYO_lxVYV6t"
      },
      "execution_count": null,
      "outputs": []
    },
    {
      "cell_type": "markdown",
      "source": [
        "Prerocessing for Naive Bayes Approach"
      ],
      "metadata": {
        "id": "78AY1pu6aRkw"
      }
    },
    {
      "cell_type": "code",
      "source": [
        "lemmatizer = WordNetLemmatizer()\n",
        "stop_words = set(stopwords.words('english'))\n",
        "processed_df = train_data.copy()\n",
        "\n",
        "def preprocess_text_bayes(un_processed_data):\n",
        "    tokens = word_tokenize(un_processed_data)\n",
        "    tokenized_words = []\n",
        "\n",
        "    stop_words = set(stopwords.words(\"english\"))\n",
        "    lemmatizer = WordNetLemmatizer()\n",
        "\n",
        "    for token in tokens:\n",
        "        # Checking if the word is alphabetic\n",
        "        if token.isalpha() and token.lower() not in stop_words and token.lower() not in string.punctuation:\n",
        "            # Converting the word to lowercase\n",
        "            tokenized_words.append(lemmatizer.lemmatize(token.lower()))\n",
        "\n",
        "    preprocessed_data = ' '.join(tokenized_words)\n",
        "    return preprocessed_data\n",
        "\n",
        "processed_df['tokenized_synopsis_bayes'] = processed_df['plot_synopsis'].apply(preprocess_text_bayes)"
      ],
      "metadata": {
        "id": "uhvrXvR2aS3o"
      },
      "execution_count": null,
      "outputs": []
    },
    {
      "cell_type": "markdown",
      "source": [
        "Prerocessing for LSTM Approach"
      ],
      "metadata": {
        "id": "9cunlCOuvVeG"
      }
    },
    {
      "cell_type": "code",
      "source": [
        "def preprocess_text_lstm(un_processed_data):\n",
        "    tokens = word_tokenize(un_processed_data)\n",
        "    tokenized_words = []\n",
        "\n",
        "    stop_words = set(stopwords.words(\"english\"))\n",
        "    lemmatizer = WordNetLemmatizer()\n",
        "\n",
        "    for token in tokens:\n",
        "        # Checking if the word is alphabetic\n",
        "        if token.isalpha() and token.lower() not in stop_words and token.lower() not in string.punctuation:\n",
        "            # Converting the word to lowercase\n",
        "            tokenized_words.append(lemmatizer.lemmatize(token.lower()))\n",
        "\n",
        "    preprocessed_data = ' '.join(tokenized_words)\n",
        "    return preprocessed_data\n",
        "\n",
        "processed_df['tokenized_synopsis_lstm'] = processed_df['plot_synopsis'].apply(preprocess_text_lstm)"
      ],
      "metadata": {
        "id": "2IlbnMO8vVlb"
      },
      "execution_count": null,
      "outputs": []
    },
    {
      "cell_type": "markdown",
      "source": [
        "Arranging the training datset"
      ],
      "metadata": {
        "id": "6fT30z7obJAN"
      }
    },
    {
      "cell_type": "code",
      "source": [
        "# Separating the text and labels\n",
        "train_text = processed_df[\"tokenized_synopsis_bayes\"]\n",
        "train_labels = train_data[[\"comedy\", \"cult\", \"flashback\", \"historical\", \"murder\", \"revenge\", \"romantic\", \"scifi\", \"violence\"]]"
      ],
      "metadata": {
        "id": "aU2MjdEIbJh6",
        "colab": {
          "base_uri": "https://localhost:8080/",
          "height": 321
        },
        "outputId": "7099faf1-95b6-4de5-c9f5-dbe44f882487"
      },
      "execution_count": null,
      "outputs": [
        {
          "output_type": "error",
          "ename": "KeyError",
          "evalue": "\"None of [Index(['comedy', 'cult', 'flashback', 'historical', 'murder', 'revenge',\\n       'romantic', 'scifi', 'violence'],\\n      dtype='object')] are in the [columns]\"",
          "traceback": [
            "\u001b[0;31m---------------------------------------------------------------------------\u001b[0m",
            "\u001b[0;31mKeyError\u001b[0m                                  Traceback (most recent call last)",
            "\u001b[0;32m<ipython-input-6-740858cd72df>\u001b[0m in \u001b[0;36m<cell line: 3>\u001b[0;34m()\u001b[0m\n\u001b[1;32m      1\u001b[0m \u001b[0;31m# Separating the text and labels\u001b[0m\u001b[0;34m\u001b[0m\u001b[0;34m\u001b[0m\u001b[0m\n\u001b[1;32m      2\u001b[0m \u001b[0mtrain_text\u001b[0m \u001b[0;34m=\u001b[0m \u001b[0mprocessed_df\u001b[0m\u001b[0;34m[\u001b[0m\u001b[0;34m\"tokenized_synopsis_bayes\"\u001b[0m\u001b[0;34m]\u001b[0m\u001b[0;34m\u001b[0m\u001b[0;34m\u001b[0m\u001b[0m\n\u001b[0;32m----> 3\u001b[0;31m \u001b[0mtrain_labels\u001b[0m \u001b[0;34m=\u001b[0m \u001b[0mtrain_data\u001b[0m\u001b[0;34m[\u001b[0m\u001b[0;34m[\u001b[0m\u001b[0;34m\"comedy\"\u001b[0m\u001b[0;34m,\u001b[0m \u001b[0;34m\"cult\"\u001b[0m\u001b[0;34m,\u001b[0m \u001b[0;34m\"flashback\"\u001b[0m\u001b[0;34m,\u001b[0m \u001b[0;34m\"historical\"\u001b[0m\u001b[0;34m,\u001b[0m \u001b[0;34m\"murder\"\u001b[0m\u001b[0;34m,\u001b[0m \u001b[0;34m\"revenge\"\u001b[0m\u001b[0;34m,\u001b[0m \u001b[0;34m\"romantic\"\u001b[0m\u001b[0;34m,\u001b[0m \u001b[0;34m\"scifi\"\u001b[0m\u001b[0;34m,\u001b[0m \u001b[0;34m\"violence\"\u001b[0m\u001b[0;34m]\u001b[0m\u001b[0;34m]\u001b[0m\u001b[0;34m\u001b[0m\u001b[0;34m\u001b[0m\u001b[0m\n\u001b[0m",
            "\u001b[0;32m/usr/local/lib/python3.10/dist-packages/pandas/core/frame.py\u001b[0m in \u001b[0;36m__getitem__\u001b[0;34m(self, key)\u001b[0m\n\u001b[1;32m   3811\u001b[0m             \u001b[0;32mif\u001b[0m \u001b[0mis_iterator\u001b[0m\u001b[0;34m(\u001b[0m\u001b[0mkey\u001b[0m\u001b[0;34m)\u001b[0m\u001b[0;34m:\u001b[0m\u001b[0;34m\u001b[0m\u001b[0;34m\u001b[0m\u001b[0m\n\u001b[1;32m   3812\u001b[0m                 \u001b[0mkey\u001b[0m \u001b[0;34m=\u001b[0m \u001b[0mlist\u001b[0m\u001b[0;34m(\u001b[0m\u001b[0mkey\u001b[0m\u001b[0;34m)\u001b[0m\u001b[0;34m\u001b[0m\u001b[0;34m\u001b[0m\u001b[0m\n\u001b[0;32m-> 3813\u001b[0;31m             \u001b[0mindexer\u001b[0m \u001b[0;34m=\u001b[0m \u001b[0mself\u001b[0m\u001b[0;34m.\u001b[0m\u001b[0mcolumns\u001b[0m\u001b[0;34m.\u001b[0m\u001b[0m_get_indexer_strict\u001b[0m\u001b[0;34m(\u001b[0m\u001b[0mkey\u001b[0m\u001b[0;34m,\u001b[0m \u001b[0;34m\"columns\"\u001b[0m\u001b[0;34m)\u001b[0m\u001b[0;34m[\u001b[0m\u001b[0;36m1\u001b[0m\u001b[0;34m]\u001b[0m\u001b[0;34m\u001b[0m\u001b[0;34m\u001b[0m\u001b[0m\n\u001b[0m\u001b[1;32m   3814\u001b[0m \u001b[0;34m\u001b[0m\u001b[0m\n\u001b[1;32m   3815\u001b[0m         \u001b[0;31m# take() does not accept boolean indexers\u001b[0m\u001b[0;34m\u001b[0m\u001b[0;34m\u001b[0m\u001b[0m\n",
            "\u001b[0;32m/usr/local/lib/python3.10/dist-packages/pandas/core/indexes/base.py\u001b[0m in \u001b[0;36m_get_indexer_strict\u001b[0;34m(self, key, axis_name)\u001b[0m\n\u001b[1;32m   6068\u001b[0m             \u001b[0mkeyarr\u001b[0m\u001b[0;34m,\u001b[0m \u001b[0mindexer\u001b[0m\u001b[0;34m,\u001b[0m \u001b[0mnew_indexer\u001b[0m \u001b[0;34m=\u001b[0m \u001b[0mself\u001b[0m\u001b[0;34m.\u001b[0m\u001b[0m_reindex_non_unique\u001b[0m\u001b[0;34m(\u001b[0m\u001b[0mkeyarr\u001b[0m\u001b[0;34m)\u001b[0m\u001b[0;34m\u001b[0m\u001b[0;34m\u001b[0m\u001b[0m\n\u001b[1;32m   6069\u001b[0m \u001b[0;34m\u001b[0m\u001b[0m\n\u001b[0;32m-> 6070\u001b[0;31m         \u001b[0mself\u001b[0m\u001b[0;34m.\u001b[0m\u001b[0m_raise_if_missing\u001b[0m\u001b[0;34m(\u001b[0m\u001b[0mkeyarr\u001b[0m\u001b[0;34m,\u001b[0m \u001b[0mindexer\u001b[0m\u001b[0;34m,\u001b[0m \u001b[0maxis_name\u001b[0m\u001b[0;34m)\u001b[0m\u001b[0;34m\u001b[0m\u001b[0;34m\u001b[0m\u001b[0m\n\u001b[0m\u001b[1;32m   6071\u001b[0m \u001b[0;34m\u001b[0m\u001b[0m\n\u001b[1;32m   6072\u001b[0m         \u001b[0mkeyarr\u001b[0m \u001b[0;34m=\u001b[0m \u001b[0mself\u001b[0m\u001b[0;34m.\u001b[0m\u001b[0mtake\u001b[0m\u001b[0;34m(\u001b[0m\u001b[0mindexer\u001b[0m\u001b[0;34m)\u001b[0m\u001b[0;34m\u001b[0m\u001b[0;34m\u001b[0m\u001b[0m\n",
            "\u001b[0;32m/usr/local/lib/python3.10/dist-packages/pandas/core/indexes/base.py\u001b[0m in \u001b[0;36m_raise_if_missing\u001b[0;34m(self, key, indexer, axis_name)\u001b[0m\n\u001b[1;32m   6128\u001b[0m                 \u001b[0;32mif\u001b[0m \u001b[0muse_interval_msg\u001b[0m\u001b[0;34m:\u001b[0m\u001b[0;34m\u001b[0m\u001b[0;34m\u001b[0m\u001b[0m\n\u001b[1;32m   6129\u001b[0m                     \u001b[0mkey\u001b[0m \u001b[0;34m=\u001b[0m \u001b[0mlist\u001b[0m\u001b[0;34m(\u001b[0m\u001b[0mkey\u001b[0m\u001b[0;34m)\u001b[0m\u001b[0;34m\u001b[0m\u001b[0;34m\u001b[0m\u001b[0m\n\u001b[0;32m-> 6130\u001b[0;31m                 \u001b[0;32mraise\u001b[0m \u001b[0mKeyError\u001b[0m\u001b[0;34m(\u001b[0m\u001b[0;34mf\"None of [{key}] are in the [{axis_name}]\"\u001b[0m\u001b[0;34m)\u001b[0m\u001b[0;34m\u001b[0m\u001b[0;34m\u001b[0m\u001b[0m\n\u001b[0m\u001b[1;32m   6131\u001b[0m \u001b[0;34m\u001b[0m\u001b[0m\n\u001b[1;32m   6132\u001b[0m             \u001b[0mnot_found\u001b[0m \u001b[0;34m=\u001b[0m \u001b[0mlist\u001b[0m\u001b[0;34m(\u001b[0m\u001b[0mensure_index\u001b[0m\u001b[0;34m(\u001b[0m\u001b[0mkey\u001b[0m\u001b[0;34m)\u001b[0m\u001b[0;34m[\u001b[0m\u001b[0mmissing_mask\u001b[0m\u001b[0;34m.\u001b[0m\u001b[0mnonzero\u001b[0m\u001b[0;34m(\u001b[0m\u001b[0;34m)\u001b[0m\u001b[0;34m[\u001b[0m\u001b[0;36m0\u001b[0m\u001b[0;34m]\u001b[0m\u001b[0;34m]\u001b[0m\u001b[0;34m.\u001b[0m\u001b[0munique\u001b[0m\u001b[0;34m(\u001b[0m\u001b[0;34m)\u001b[0m\u001b[0;34m)\u001b[0m\u001b[0;34m\u001b[0m\u001b[0;34m\u001b[0m\u001b[0m\n",
            "\u001b[0;31mKeyError\u001b[0m: \"None of [Index(['comedy', 'cult', 'flashback', 'historical', 'murder', 'revenge',\\n       'romantic', 'scifi', 'violence'],\\n      dtype='object')] are in the [columns]\""
          ]
        }
      ]
    },
    {
      "cell_type": "markdown",
      "source": [
        "Create a TfidfVectorizer to convert the text into numerical features"
      ],
      "metadata": {
        "id": "lVG60yhFdHKO"
      }
    },
    {
      "cell_type": "code",
      "source": [
        "tfidf_vectorizer = TfidfVectorizer()\n",
        "train_features = tfidf_vectorizer.fit_transform(train_text)\n",
        "# print(train_features.shape)"
      ],
      "metadata": {
        "id": "ODj2M_FCdHiJ"
      },
      "execution_count": null,
      "outputs": []
    },
    {
      "cell_type": "markdown",
      "source": [
        "Training the Multinomial Naive Bayes classifier"
      ],
      "metadata": {
        "id": "w7pV5be3xjUj"
      }
    },
    {
      "cell_type": "code",
      "source": [
        "multinomial_nb = MultinomialNB(alpha=0.01)\n",
        "one_vs_rest_classifier = OneVsRestClassifier(multinomial_nb)\n",
        "nb_classifier = OneVsRestClassifier(MultinomialNB)\n",
        "# Creating the model\n",
        "nb_classifier_ =  make_pipeline(tfidf_vectorizer, one_vs_rest_classifier)\n",
        "nb_classifier_.fit(train_text, train_labels)"
      ],
      "metadata": {
        "colab": {
          "base_uri": "https://localhost:8080/",
          "height": 191
        },
        "id": "z55lhsglhha8",
        "outputId": "2e7e2fb9-ed7b-4fe2-d8fa-083296b0a99e"
      },
      "execution_count": null,
      "outputs": [
        {
          "output_type": "execute_result",
          "data": {
            "text/plain": [
              "Pipeline(steps=[('tfidfvectorizer', TfidfVectorizer()),\n",
              "                ('onevsrestclassifier',\n",
              "                 OneVsRestClassifier(estimator=MultinomialNB(alpha=0.01)))])"
            ],
            "text/html": [
              "<style>#sk-container-id-1 {color: black;background-color: white;}#sk-container-id-1 pre{padding: 0;}#sk-container-id-1 div.sk-toggleable {background-color: white;}#sk-container-id-1 label.sk-toggleable__label {cursor: pointer;display: block;width: 100%;margin-bottom: 0;padding: 0.3em;box-sizing: border-box;text-align: center;}#sk-container-id-1 label.sk-toggleable__label-arrow:before {content: \"▸\";float: left;margin-right: 0.25em;color: #696969;}#sk-container-id-1 label.sk-toggleable__label-arrow:hover:before {color: black;}#sk-container-id-1 div.sk-estimator:hover label.sk-toggleable__label-arrow:before {color: black;}#sk-container-id-1 div.sk-toggleable__content {max-height: 0;max-width: 0;overflow: hidden;text-align: left;background-color: #f0f8ff;}#sk-container-id-1 div.sk-toggleable__content pre {margin: 0.2em;color: black;border-radius: 0.25em;background-color: #f0f8ff;}#sk-container-id-1 input.sk-toggleable__control:checked~div.sk-toggleable__content {max-height: 200px;max-width: 100%;overflow: auto;}#sk-container-id-1 input.sk-toggleable__control:checked~label.sk-toggleable__label-arrow:before {content: \"▾\";}#sk-container-id-1 div.sk-estimator input.sk-toggleable__control:checked~label.sk-toggleable__label {background-color: #d4ebff;}#sk-container-id-1 div.sk-label input.sk-toggleable__control:checked~label.sk-toggleable__label {background-color: #d4ebff;}#sk-container-id-1 input.sk-hidden--visually {border: 0;clip: rect(1px 1px 1px 1px);clip: rect(1px, 1px, 1px, 1px);height: 1px;margin: -1px;overflow: hidden;padding: 0;position: absolute;width: 1px;}#sk-container-id-1 div.sk-estimator {font-family: monospace;background-color: #f0f8ff;border: 1px dotted black;border-radius: 0.25em;box-sizing: border-box;margin-bottom: 0.5em;}#sk-container-id-1 div.sk-estimator:hover {background-color: #d4ebff;}#sk-container-id-1 div.sk-parallel-item::after {content: \"\";width: 100%;border-bottom: 1px solid gray;flex-grow: 1;}#sk-container-id-1 div.sk-label:hover label.sk-toggleable__label {background-color: #d4ebff;}#sk-container-id-1 div.sk-serial::before {content: \"\";position: absolute;border-left: 1px solid gray;box-sizing: border-box;top: 0;bottom: 0;left: 50%;z-index: 0;}#sk-container-id-1 div.sk-serial {display: flex;flex-direction: column;align-items: center;background-color: white;padding-right: 0.2em;padding-left: 0.2em;position: relative;}#sk-container-id-1 div.sk-item {position: relative;z-index: 1;}#sk-container-id-1 div.sk-parallel {display: flex;align-items: stretch;justify-content: center;background-color: white;position: relative;}#sk-container-id-1 div.sk-item::before, #sk-container-id-1 div.sk-parallel-item::before {content: \"\";position: absolute;border-left: 1px solid gray;box-sizing: border-box;top: 0;bottom: 0;left: 50%;z-index: -1;}#sk-container-id-1 div.sk-parallel-item {display: flex;flex-direction: column;z-index: 1;position: relative;background-color: white;}#sk-container-id-1 div.sk-parallel-item:first-child::after {align-self: flex-end;width: 50%;}#sk-container-id-1 div.sk-parallel-item:last-child::after {align-self: flex-start;width: 50%;}#sk-container-id-1 div.sk-parallel-item:only-child::after {width: 0;}#sk-container-id-1 div.sk-dashed-wrapped {border: 1px dashed gray;margin: 0 0.4em 0.5em 0.4em;box-sizing: border-box;padding-bottom: 0.4em;background-color: white;}#sk-container-id-1 div.sk-label label {font-family: monospace;font-weight: bold;display: inline-block;line-height: 1.2em;}#sk-container-id-1 div.sk-label-container {text-align: center;}#sk-container-id-1 div.sk-container {/* jupyter's `normalize.less` sets `[hidden] { display: none; }` but bootstrap.min.css set `[hidden] { display: none !important; }` so we also need the `!important` here to be able to override the default hidden behavior on the sphinx rendered scikit-learn.org. See: https://github.com/scikit-learn/scikit-learn/issues/21755 */display: inline-block !important;position: relative;}#sk-container-id-1 div.sk-text-repr-fallback {display: none;}</style><div id=\"sk-container-id-1\" class=\"sk-top-container\"><div class=\"sk-text-repr-fallback\"><pre>Pipeline(steps=[(&#x27;tfidfvectorizer&#x27;, TfidfVectorizer()),\n",
              "                (&#x27;onevsrestclassifier&#x27;,\n",
              "                 OneVsRestClassifier(estimator=MultinomialNB(alpha=0.01)))])</pre><b>In a Jupyter environment, please rerun this cell to show the HTML representation or trust the notebook. <br />On GitHub, the HTML representation is unable to render, please try loading this page with nbviewer.org.</b></div><div class=\"sk-container\" hidden><div class=\"sk-item sk-dashed-wrapped\"><div class=\"sk-label-container\"><div class=\"sk-label sk-toggleable\"><input class=\"sk-toggleable__control sk-hidden--visually\" id=\"sk-estimator-id-1\" type=\"checkbox\" ><label for=\"sk-estimator-id-1\" class=\"sk-toggleable__label sk-toggleable__label-arrow\">Pipeline</label><div class=\"sk-toggleable__content\"><pre>Pipeline(steps=[(&#x27;tfidfvectorizer&#x27;, TfidfVectorizer()),\n",
              "                (&#x27;onevsrestclassifier&#x27;,\n",
              "                 OneVsRestClassifier(estimator=MultinomialNB(alpha=0.01)))])</pre></div></div></div><div class=\"sk-serial\"><div class=\"sk-item\"><div class=\"sk-estimator sk-toggleable\"><input class=\"sk-toggleable__control sk-hidden--visually\" id=\"sk-estimator-id-2\" type=\"checkbox\" ><label for=\"sk-estimator-id-2\" class=\"sk-toggleable__label sk-toggleable__label-arrow\">TfidfVectorizer</label><div class=\"sk-toggleable__content\"><pre>TfidfVectorizer()</pre></div></div></div><div class=\"sk-item sk-dashed-wrapped\"><div class=\"sk-label-container\"><div class=\"sk-label sk-toggleable\"><input class=\"sk-toggleable__control sk-hidden--visually\" id=\"sk-estimator-id-3\" type=\"checkbox\" ><label for=\"sk-estimator-id-3\" class=\"sk-toggleable__label sk-toggleable__label-arrow\">onevsrestclassifier: OneVsRestClassifier</label><div class=\"sk-toggleable__content\"><pre>OneVsRestClassifier(estimator=MultinomialNB(alpha=0.01))</pre></div></div></div><div class=\"sk-parallel\"><div class=\"sk-parallel-item\"><div class=\"sk-item\"><div class=\"sk-label-container\"><div class=\"sk-label sk-toggleable\"><input class=\"sk-toggleable__control sk-hidden--visually\" id=\"sk-estimator-id-4\" type=\"checkbox\" ><label for=\"sk-estimator-id-4\" class=\"sk-toggleable__label sk-toggleable__label-arrow\">estimator: MultinomialNB</label><div class=\"sk-toggleable__content\"><pre>MultinomialNB(alpha=0.01)</pre></div></div></div><div class=\"sk-serial\"><div class=\"sk-item\"><div class=\"sk-estimator sk-toggleable\"><input class=\"sk-toggleable__control sk-hidden--visually\" id=\"sk-estimator-id-5\" type=\"checkbox\" ><label for=\"sk-estimator-id-5\" class=\"sk-toggleable__label sk-toggleable__label-arrow\">MultinomialNB</label><div class=\"sk-toggleable__content\"><pre>MultinomialNB(alpha=0.01)</pre></div></div></div></div></div></div></div></div></div></div></div></div>"
            ]
          },
          "metadata": {},
          "execution_count": 10
        }
      ]
    },
    {
      "cell_type": "markdown",
      "source": [
        "loading the processing the Validation Data"
      ],
      "metadata": {
        "id": "EE0a4w29h5Yj"
      }
    },
    {
      "cell_type": "code",
      "source": [
        "processed_df_validation = pd.read_csv('./data/Task-2-validation-dataset.csv')\n",
        "processed_df_validation['tokenized_bayes'] = processed_df_validation['plot_synopsis'].apply(preprocess_text_bayes)"
      ],
      "metadata": {
        "id": "6r97Ftjxh5jg"
      },
      "execution_count": null,
      "outputs": []
    },
    {
      "cell_type": "code",
      "source": [
        "import pandas as pd\n",
        "from google.colab import files\n",
        "\n",
        "def apply_threshold(probabilities, threshold=0.65):\n",
        "    return (probabilities >= threshold).astype(int)\n",
        "\n",
        "prediction_train_probability_validation = nb_classifier_.predict_proba(processed_df_validation['tokenized_bayes'])\n",
        "prediction_with_custom_threshold = apply_threshold(prediction_train_probability_validation, threshold=0.23)\n",
        "\n",
        "\n",
        "document_ids = processed_df_validation[\"ID\"].tolist()\n",
        "res = []\n",
        "for idx, label_probs in enumerate(prediction_with_custom_threshold):\n",
        "    document_id = document_ids[idx]\n",
        "    res.append((document_id, *label_probs))\n",
        "\n",
        "res_df = pd.DataFrame(res)\n",
        "\n",
        "\n",
        "# Save the DataFrame to a CSV file without including the index and column names\n",
        "res_df.to_csv('10949863-Task2-method-a-validation.csv', index=False, header=False)\n",
        "\n",
        "# Download the file to your local machine\n",
        "files.download('10949863-Task2-method-a-validation.csv')\n"
      ],
      "metadata": {
        "colab": {
          "base_uri": "https://localhost:8080/",
          "height": 17
        },
        "id": "Xs4_N2x9i8ES",
        "outputId": "d993437b-6239-4a8a-e53f-7ee6859c9bad"
      },
      "execution_count": null,
      "outputs": [
        {
          "output_type": "display_data",
          "data": {
            "text/plain": [
              "<IPython.core.display.Javascript object>"
            ],
            "application/javascript": [
              "\n",
              "    async function download(id, filename, size) {\n",
              "      if (!google.colab.kernel.accessAllowed) {\n",
              "        return;\n",
              "      }\n",
              "      const div = document.createElement('div');\n",
              "      const label = document.createElement('label');\n",
              "      label.textContent = `Downloading \"${filename}\": `;\n",
              "      div.appendChild(label);\n",
              "      const progress = document.createElement('progress');\n",
              "      progress.max = size;\n",
              "      div.appendChild(progress);\n",
              "      document.body.appendChild(div);\n",
              "\n",
              "      const buffers = [];\n",
              "      let downloaded = 0;\n",
              "\n",
              "      const channel = await google.colab.kernel.comms.open(id);\n",
              "      // Send a message to notify the kernel that we're ready.\n",
              "      channel.send({})\n",
              "\n",
              "      for await (const message of channel.messages) {\n",
              "        // Send a message to notify the kernel that we're ready.\n",
              "        channel.send({})\n",
              "        if (message.buffers) {\n",
              "          for (const buffer of message.buffers) {\n",
              "            buffers.push(buffer);\n",
              "            downloaded += buffer.byteLength;\n",
              "            progress.value = downloaded;\n",
              "          }\n",
              "        }\n",
              "      }\n",
              "      const blob = new Blob(buffers, {type: 'application/binary'});\n",
              "      const a = document.createElement('a');\n",
              "      a.href = window.URL.createObjectURL(blob);\n",
              "      a.download = filename;\n",
              "      div.appendChild(a);\n",
              "      a.click();\n",
              "      div.remove();\n",
              "    }\n",
              "  "
            ]
          },
          "metadata": {}
        },
        {
          "output_type": "display_data",
          "data": {
            "text/plain": [
              "<IPython.core.display.Javascript object>"
            ],
            "application/javascript": [
              "download(\"download_02c85cd2-6cc7-4892-889b-f7a253aa4877\", \"10949863-Task2-method-a-validation.csv\", 65340)"
            ]
          },
          "metadata": {}
        }
      ]
    },
    {
      "cell_type": "markdown",
      "source": [
        "loading the processing the Test Data"
      ],
      "metadata": {
        "id": "vEJm6B02ocOY"
      }
    },
    {
      "cell_type": "code",
      "source": [
        "processed_df_test = pd.read_csv('./data/Task-2-test-dataset1.csv')\n",
        "processed_df_test['tokenized_bayes'] = processed_df_test['plot_synopsis'].apply(preprocess_text_bayes)"
      ],
      "metadata": {
        "id": "NsKMBQTiouJF"
      },
      "execution_count": null,
      "outputs": []
    },
    {
      "cell_type": "code",
      "source": [
        "import pandas as pd\n",
        "from google.colab import files\n",
        "\n",
        "def apply_threshold(probabilities, threshold=0.65):\n",
        "    return (probabilities >= threshold).astype(int)\n",
        "\n",
        "prediction_train_probability_test = nb_classifier_.predict_proba(processed_df_test['tokenized_bayes'])\n",
        "prediction_with_custom_threshold = apply_threshold(prediction_train_probability_test, threshold=0.23)\n",
        "\n",
        "document_ids = processed_df_test[\"ID\"].tolist()\n",
        "res = []\n",
        "for idx, label_probs in enumerate(prediction_with_custom_threshold):\n",
        "    document_id = document_ids[idx]\n",
        "    res.append((document_id, *label_probs))\n",
        "\n",
        "res_df = pd.DataFrame(res)\n",
        "\n",
        "\n",
        "# Save the DataFrame to a CSV file without including the index and column names\n",
        "res_df.to_csv('10949863-Task2-method-a-test.csv', index=False, header=False)\n",
        "\n",
        "# Download the file to your local machine\n",
        "files.download('10949863-Task2-method-a-test.csv')"
      ],
      "metadata": {
        "colab": {
          "base_uri": "https://localhost:8080/",
          "height": 17
        },
        "id": "KJse3TXepEeN",
        "outputId": "1c48aa01-9a4a-4305-f2d5-97610ed96c50"
      },
      "execution_count": null,
      "outputs": [
        {
          "output_type": "display_data",
          "data": {
            "text/plain": [
              "<IPython.core.display.Javascript object>"
            ],
            "application/javascript": [
              "\n",
              "    async function download(id, filename, size) {\n",
              "      if (!google.colab.kernel.accessAllowed) {\n",
              "        return;\n",
              "      }\n",
              "      const div = document.createElement('div');\n",
              "      const label = document.createElement('label');\n",
              "      label.textContent = `Downloading \"${filename}\": `;\n",
              "      div.appendChild(label);\n",
              "      const progress = document.createElement('progress');\n",
              "      progress.max = size;\n",
              "      div.appendChild(progress);\n",
              "      document.body.appendChild(div);\n",
              "\n",
              "      const buffers = [];\n",
              "      let downloaded = 0;\n",
              "\n",
              "      const channel = await google.colab.kernel.comms.open(id);\n",
              "      // Send a message to notify the kernel that we're ready.\n",
              "      channel.send({})\n",
              "\n",
              "      for await (const message of channel.messages) {\n",
              "        // Send a message to notify the kernel that we're ready.\n",
              "        channel.send({})\n",
              "        if (message.buffers) {\n",
              "          for (const buffer of message.buffers) {\n",
              "            buffers.push(buffer);\n",
              "            downloaded += buffer.byteLength;\n",
              "            progress.value = downloaded;\n",
              "          }\n",
              "        }\n",
              "      }\n",
              "      const blob = new Blob(buffers, {type: 'application/binary'});\n",
              "      const a = document.createElement('a');\n",
              "      a.href = window.URL.createObjectURL(blob);\n",
              "      a.download = filename;\n",
              "      div.appendChild(a);\n",
              "      a.click();\n",
              "      div.remove();\n",
              "    }\n",
              "  "
            ]
          },
          "metadata": {}
        },
        {
          "output_type": "display_data",
          "data": {
            "text/plain": [
              "<IPython.core.display.Javascript object>"
            ],
            "application/javascript": [
              "download(\"download_af6ae50b-dc03-42db-b70d-57e5c77a95ad\", \"10949863-Task2-method-a-test.csv\", 66000)"
            ]
          },
          "metadata": {}
        }
      ]
    },
    {
      "cell_type": "markdown",
      "source": [
        "LSTM Approach"
      ],
      "metadata": {
        "id": "8KU-3Ma0Y20K"
      }
    },
    {
      "cell_type": "code",
      "source": [
        "# Separate the text and labels\n",
        "train_text = train_data[\"plot_synopsis\"]\n",
        "train_labels = train_data[[\"comedy\", \"cult\", \"flashback\", \"historical\", \"murder\", \"revenge\", \"romantic\", \"scifi\", \"violence\"]]"
      ],
      "metadata": {
        "id": "vFzJBcinY26B"
      },
      "execution_count": null,
      "outputs": []
    },
    {
      "cell_type": "markdown",
      "source": [
        "Tokenizing and padding the sequences"
      ],
      "metadata": {
        "id": "BhqjwCgoZcHF"
      }
    },
    {
      "cell_type": "code",
      "source": [
        "max_words = 3000  # 4000 len(vocabulary)\n",
        "max_len = 200\n",
        "tokenizer = Tokenizer(num_words=max_words, oov_token=\"<OOV>\")\n",
        "tokenizer.fit_on_texts(train_text)\n",
        "sequences = tokenizer.texts_to_sequences(train_text)\n",
        "padded_sequences = pad_sequences(sequences, maxlen=max_len, padding='post')"
      ],
      "metadata": {
        "id": "DHwRvKO4ZcON"
      },
      "execution_count": null,
      "outputs": []
    },
    {
      "cell_type": "markdown",
      "source": [
        "Building the LSTM model"
      ],
      "metadata": {
        "id": "ys5_NPnDZhVo"
      }
    },
    {
      "cell_type": "code",
      "source": [
        "model_lstm_ = Sequential()\n",
        "model_lstm_.add(Embedding(input_dim=max_words, output_dim=128, input_length=max_len))\n",
        "model_lstm_.add(LSTM(100))\n",
        "model_lstm_.add(Dense(9, activation='sigmoid'))\n",
        "model_lstm_.compile(optimizer='adam', loss='binary_crossentropy', metrics=['accuracy'])\n",
        "model_lstm_.summary()"
      ],
      "metadata": {
        "id": "xNN7fgrRZhaS",
        "colab": {
          "base_uri": "https://localhost:8080/"
        },
        "outputId": "0e91e40e-ebef-47e8-ec2f-22618ca8a171"
      },
      "execution_count": null,
      "outputs": [
        {
          "output_type": "stream",
          "name": "stdout",
          "text": [
            "Model: \"sequential\"\n",
            "_________________________________________________________________\n",
            " Layer (type)                Output Shape              Param #   \n",
            "=================================================================\n",
            " embedding (Embedding)       (None, 200, 128)          384000    \n",
            "                                                                 \n",
            " lstm (LSTM)                 (None, 100)               91600     \n",
            "                                                                 \n",
            " dense (Dense)               (None, 9)                 909       \n",
            "                                                                 \n",
            "=================================================================\n",
            "Total params: 476509 (1.82 MB)\n",
            "Trainable params: 476509 (1.82 MB)\n",
            "Non-trainable params: 0 (0.00 Byte)\n",
            "_________________________________________________________________\n"
          ]
        }
      ]
    },
    {
      "cell_type": "markdown",
      "source": [
        "Training the model_lstm_"
      ],
      "metadata": {
        "id": "2iWrug49QY2Z"
      }
    },
    {
      "cell_type": "code",
      "source": [
        "model_lstm_.fit(padded_sequences, train_labels, epochs= 10, batch_size = 42) # bs = 42 epoch = 10 best"
      ],
      "metadata": {
        "colab": {
          "base_uri": "https://localhost:8080/"
        },
        "id": "T4Oe2FKGlPSS",
        "outputId": "7bc72c28-23d7-4097-a550-449c71e13c5c"
      },
      "execution_count": null,
      "outputs": [
        {
          "output_type": "stream",
          "name": "stdout",
          "text": [
            "Epoch 1/10\n",
            "197/197 [==============================] - 70s 336ms/step - loss: 0.4761 - accuracy: 0.2446\n",
            "Epoch 2/10\n",
            "197/197 [==============================] - 68s 344ms/step - loss: 0.4564 - accuracy: 0.2598\n",
            "Epoch 3/10\n",
            "197/197 [==============================] - 66s 337ms/step - loss: 0.4395 - accuracy: 0.2715\n",
            "Epoch 4/10\n",
            "197/197 [==============================] - 67s 340ms/step - loss: 0.4174 - accuracy: 0.2978\n",
            "Epoch 5/10\n",
            "197/197 [==============================] - 68s 344ms/step - loss: 0.3931 - accuracy: 0.3280\n",
            "Epoch 6/10\n",
            "197/197 [==============================] - 66s 335ms/step - loss: 0.3705 - accuracy: 0.3613\n",
            "Epoch 7/10\n",
            "197/197 [==============================] - 67s 341ms/step - loss: 0.3522 - accuracy: 0.3844\n",
            "Epoch 8/10\n",
            "197/197 [==============================] - 68s 344ms/step - loss: 0.3352 - accuracy: 0.4104\n",
            "Epoch 9/10\n",
            "197/197 [==============================] - 66s 333ms/step - loss: 0.3192 - accuracy: 0.4233\n",
            "Epoch 10/10\n",
            "197/197 [==============================] - 67s 342ms/step - loss: 0.3021 - accuracy: 0.4463\n"
          ]
        },
        {
          "output_type": "execute_result",
          "data": {
            "text/plain": [
              "<keras.src.callbacks.History at 0x7a61157db280>"
            ]
          },
          "metadata": {},
          "execution_count": 32
        }
      ]
    },
    {
      "cell_type": "markdown",
      "source": [
        "Loading and processing the Validation Data"
      ],
      "metadata": {
        "id": "OskWYyKovBYK"
      }
    },
    {
      "cell_type": "code",
      "source": [
        "processed_df_validation = pd.read_csv('./data/Task-2-validation-dataset.csv')\n",
        "processed_df_validation['tokenized_lstm'] = processed_df_validation['plot_synopsis'].apply(preprocess_text_lstm)"
      ],
      "metadata": {
        "id": "lBamTnr8vBh3"
      },
      "execution_count": null,
      "outputs": []
    },
    {
      "cell_type": "markdown",
      "source": [
        "Tokenizing and padding the sequences for the validation data"
      ],
      "metadata": {
        "id": "SRiALawFRRYG"
      }
    },
    {
      "cell_type": "code",
      "source": [
        "# Tokenizing and padding the sequences for the validation data\n",
        "validation_text = processed_df_validation['tokenized_lstm']\n",
        "\n",
        "validation_sequences = tokenizer.texts_to_sequences(validation_text)\n",
        "padded_validation_sequences = pad_sequences(validation_sequences, maxlen=max_len, padding='post')\n",
        "\n",
        "val_predictions = model_lstm_.predict(padded_validation_sequences)\n",
        "val_predictions_binary = (val_predictions > 0.32).astype(int)\n",
        "\n",
        "\n",
        "document_ids = processed_df_validation[\"ID\"].tolist()\n",
        "res = []\n",
        "for idx, label_probs in enumerate(val_predictions_binary):\n",
        "    document_id = document_ids[idx]\n",
        "    res.append((document_id, *label_probs))\n",
        "\n",
        "res_df = pd.DataFrame(res)\n",
        "res_df.to_csv('10949863-Task2-method-b-validation.csv', index=False, header=False)\n",
        "files.download('10949863-Task2-method-b-validation.csv')"
      ],
      "metadata": {
        "colab": {
          "base_uri": "https://localhost:8080/",
          "height": 34
        },
        "id": "TgBJGarjtGDC",
        "outputId": "4caba278-ec16-4d76-cccf-d0aaa635d59a"
      },
      "execution_count": null,
      "outputs": [
        {
          "output_type": "stream",
          "name": "stdout",
          "text": [
            "38/38 [==============================] - 3s 71ms/step\n"
          ]
        },
        {
          "output_type": "display_data",
          "data": {
            "text/plain": [
              "<IPython.core.display.Javascript object>"
            ],
            "application/javascript": [
              "\n",
              "    async function download(id, filename, size) {\n",
              "      if (!google.colab.kernel.accessAllowed) {\n",
              "        return;\n",
              "      }\n",
              "      const div = document.createElement('div');\n",
              "      const label = document.createElement('label');\n",
              "      label.textContent = `Downloading \"${filename}\": `;\n",
              "      div.appendChild(label);\n",
              "      const progress = document.createElement('progress');\n",
              "      progress.max = size;\n",
              "      div.appendChild(progress);\n",
              "      document.body.appendChild(div);\n",
              "\n",
              "      const buffers = [];\n",
              "      let downloaded = 0;\n",
              "\n",
              "      const channel = await google.colab.kernel.comms.open(id);\n",
              "      // Send a message to notify the kernel that we're ready.\n",
              "      channel.send({})\n",
              "\n",
              "      for await (const message of channel.messages) {\n",
              "        // Send a message to notify the kernel that we're ready.\n",
              "        channel.send({})\n",
              "        if (message.buffers) {\n",
              "          for (const buffer of message.buffers) {\n",
              "            buffers.push(buffer);\n",
              "            downloaded += buffer.byteLength;\n",
              "            progress.value = downloaded;\n",
              "          }\n",
              "        }\n",
              "      }\n",
              "      const blob = new Blob(buffers, {type: 'application/binary'});\n",
              "      const a = document.createElement('a');\n",
              "      a.href = window.URL.createObjectURL(blob);\n",
              "      a.download = filename;\n",
              "      div.appendChild(a);\n",
              "      a.click();\n",
              "      div.remove();\n",
              "    }\n",
              "  "
            ]
          },
          "metadata": {}
        },
        {
          "output_type": "display_data",
          "data": {
            "text/plain": [
              "<IPython.core.display.Javascript object>"
            ],
            "application/javascript": [
              "download(\"download_9e6f4862-4d2e-45af-b729-956e34cf123b\", \"10949863-Task2-method-b-validation.csv\", 65340)"
            ]
          },
          "metadata": {}
        }
      ]
    },
    {
      "cell_type": "markdown",
      "source": [
        "Loading and processing the Test Data"
      ],
      "metadata": {
        "id": "W6hQQigUwl07"
      }
    },
    {
      "cell_type": "code",
      "source": [
        "processed_df_test = pd.read_csv('./data/Task-2-test-dataset1.csv')\n",
        "processed_df_test['tokenized_lstm'] = processed_df_test['plot_synopsis'].apply(preprocess_text_lstm)"
      ],
      "metadata": {
        "id": "ZfuQZwV6wl_y"
      },
      "execution_count": null,
      "outputs": []
    },
    {
      "cell_type": "markdown",
      "source": [
        "Tokenizing and padding the sequences for the validation data"
      ],
      "metadata": {
        "id": "Z-SixW_TwmRn"
      }
    },
    {
      "cell_type": "code",
      "source": [
        "test_text = processed_df_test['tokenized_lstm']\n",
        "\n",
        "test_sequences = tokenizer.texts_to_sequences(test_text)\n",
        "padded_test_sequences = pad_sequences(test_sequences, maxlen=max_len, padding='post')\n",
        "\n",
        "test_predictions = model_lstm_.predict(padded_test_sequences)\n",
        "test_predictions_binary = (test_predictions > 0.32).astype(int)\n",
        "\n",
        "\n",
        "document_ids = processed_df_test[\"ID\"].tolist()\n",
        "res = []\n",
        "for idx, label_probs in enumerate(test_predictions_binary):\n",
        "    document_id = document_ids[idx]\n",
        "    res.append((document_id, *label_probs))\n",
        "\n",
        "res_df = pd.DataFrame(res)\n",
        "res_df.to_csv('10949863-Task2-method-b-test.csv', index=False, header=False)\n",
        "files.download('10949863-Task2-method-b-test.csv')"
      ],
      "metadata": {
        "colab": {
          "base_uri": "https://localhost:8080/",
          "height": 34
        },
        "id": "FG1Zo2UaxbDt",
        "outputId": "4349a364-716a-439e-aeb6-2f03ef7bb789"
      },
      "execution_count": null,
      "outputs": [
        {
          "output_type": "stream",
          "name": "stdout",
          "text": [
            "38/38 [==============================] - 5s 135ms/step\n"
          ]
        },
        {
          "output_type": "display_data",
          "data": {
            "text/plain": [
              "<IPython.core.display.Javascript object>"
            ],
            "application/javascript": [
              "\n",
              "    async function download(id, filename, size) {\n",
              "      if (!google.colab.kernel.accessAllowed) {\n",
              "        return;\n",
              "      }\n",
              "      const div = document.createElement('div');\n",
              "      const label = document.createElement('label');\n",
              "      label.textContent = `Downloading \"${filename}\": `;\n",
              "      div.appendChild(label);\n",
              "      const progress = document.createElement('progress');\n",
              "      progress.max = size;\n",
              "      div.appendChild(progress);\n",
              "      document.body.appendChild(div);\n",
              "\n",
              "      const buffers = [];\n",
              "      let downloaded = 0;\n",
              "\n",
              "      const channel = await google.colab.kernel.comms.open(id);\n",
              "      // Send a message to notify the kernel that we're ready.\n",
              "      channel.send({})\n",
              "\n",
              "      for await (const message of channel.messages) {\n",
              "        // Send a message to notify the kernel that we're ready.\n",
              "        channel.send({})\n",
              "        if (message.buffers) {\n",
              "          for (const buffer of message.buffers) {\n",
              "            buffers.push(buffer);\n",
              "            downloaded += buffer.byteLength;\n",
              "            progress.value = downloaded;\n",
              "          }\n",
              "        }\n",
              "      }\n",
              "      const blob = new Blob(buffers, {type: 'application/binary'});\n",
              "      const a = document.createElement('a');\n",
              "      a.href = window.URL.createObjectURL(blob);\n",
              "      a.download = filename;\n",
              "      div.appendChild(a);\n",
              "      a.click();\n",
              "      div.remove();\n",
              "    }\n",
              "  "
            ]
          },
          "metadata": {}
        },
        {
          "output_type": "display_data",
          "data": {
            "text/plain": [
              "<IPython.core.display.Javascript object>"
            ],
            "application/javascript": [
              "download(\"download_edbfc53a-2a36-400a-a1fa-1af79b3af729\", \"10949863-Task2-method-b-test.csv\", 66000)"
            ]
          },
          "metadata": {}
        }
      ]
    }
  ]
}